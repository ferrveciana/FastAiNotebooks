{
  "nbformat": 4,
  "nbformat_minor": 0,
  "metadata": {
    "colab": {
      "name": "Copy of Fast.ai Lorena-Ferran",
      "provenance": [],
      "collapsed_sections": [
        "4ocCSwaKDtMD",
        "_GGz9LmEEiVk"
      ],
      "toc_visible": true,
      "mount_file_id": "11lyQCZLNHB6tQqHW6k_OZlM411_AdRMs",
      "authorship_tag": "ABX9TyM8XUpYEnGv5W1r8xthxJlK",
      "include_colab_link": true
    },
    "kernelspec": {
      "name": "python3",
      "display_name": "Python 3"
    },
    "widgets": {
      "application/vnd.jupyter.widget-state+json": {
        "52449273d27e499ab9a3d884e9e8209d": {
          "model_module": "@jupyter-widgets/controls",
          "model_name": "VBoxModel",
          "state": {
            "_view_name": "VBoxView",
            "_dom_classes": [],
            "_model_name": "VBoxModel",
            "_view_module": "@jupyter-widgets/controls",
            "_model_module_version": "1.5.0",
            "_view_count": null,
            "_view_module_version": "1.5.0",
            "box_style": "",
            "layout": "IPY_MODEL_99d38736728e48618d87fac2102d5645",
            "_model_module": "@jupyter-widgets/controls",
            "children": [
              "IPY_MODEL_4195c7d65c7d449487ae97239e3266aa",
              "IPY_MODEL_4978286802cf4dab90c3de7d55254242",
              "IPY_MODEL_ecfeb83bb1b648baab6e5b217bf636e4",
              "IPY_MODEL_c1f5f448eacb407c9961a420091af65c",
              "IPY_MODEL_fe48f0b51fb64187a4b6fa8cf89502b5"
            ]
          }
        },
        "99d38736728e48618d87fac2102d5645": {
          "model_module": "@jupyter-widgets/base",
          "model_name": "LayoutModel",
          "state": {
            "_view_name": "LayoutView",
            "grid_template_rows": null,
            "right": null,
            "justify_content": null,
            "_view_module": "@jupyter-widgets/base",
            "overflow": null,
            "_model_module_version": "1.2.0",
            "_view_count": null,
            "flex_flow": null,
            "width": null,
            "min_width": null,
            "border": null,
            "align_items": null,
            "bottom": null,
            "_model_module": "@jupyter-widgets/base",
            "top": null,
            "grid_column": null,
            "overflow_y": null,
            "overflow_x": null,
            "grid_auto_flow": null,
            "grid_area": null,
            "grid_template_columns": null,
            "flex": null,
            "_model_name": "LayoutModel",
            "justify_items": null,
            "grid_row": null,
            "max_height": null,
            "align_content": null,
            "visibility": null,
            "align_self": null,
            "height": null,
            "min_height": null,
            "padding": null,
            "grid_auto_rows": null,
            "grid_gap": null,
            "max_width": null,
            "order": null,
            "_view_module_version": "1.2.0",
            "grid_template_areas": null,
            "object_position": null,
            "object_fit": null,
            "grid_auto_columns": null,
            "margin": null,
            "display": null,
            "left": null
          }
        },
        "4195c7d65c7d449487ae97239e3266aa": {
          "model_module": "@jupyter-widgets/controls",
          "model_name": "LabelModel",
          "state": {
            "_view_name": "LabelView",
            "style": "IPY_MODEL_dcf5b5fd4d804e46bb1e5b075f90bb0b",
            "_dom_classes": [],
            "description": "",
            "_model_name": "LabelModel",
            "placeholder": "​",
            "_view_module": "@jupyter-widgets/controls",
            "_model_module_version": "1.5.0",
            "value": "Chose an image",
            "_view_count": null,
            "_view_module_version": "1.5.0",
            "description_tooltip": null,
            "_model_module": "@jupyter-widgets/controls",
            "layout": "IPY_MODEL_90f401ad65d740208024ec9fd5a4d8bb"
          }
        },
        "4978286802cf4dab90c3de7d55254242": {
          "model_module": "@jupyter-widgets/controls",
          "model_name": "FileUploadModel",
          "state": {
            "_view_name": "FileUploadView",
            "_counter": 1,
            "style": "IPY_MODEL_e5841588c53443b8afe3f05817d571c5",
            "_dom_classes": [],
            "description": "Upload",
            "multiple": false,
            "_model_name": "FileUploadModel",
            "data": [
              null
            ],
            "button_style": "",
            "_view_module": "@jupyter-widgets/controls",
            "_model_module_version": "1.5.0",
            "accept": "",
            "_view_count": null,
            "disabled": false,
            "_view_module_version": "1.5.0",
            "error": "",
            "description_tooltip": null,
            "metadata": [
              {
                "name": "lore.jpg",
                "type": "image/jpeg",
                "size": 341424,
                "lastModified": 1597864546000
              }
            ],
            "_model_module": "@jupyter-widgets/controls",
            "layout": "IPY_MODEL_e01f8692ac1e4597878c34f5d41dcf5f",
            "icon": "upload"
          }
        },
        "ecfeb83bb1b648baab6e5b217bf636e4": {
          "model_module": "@jupyter-widgets/controls",
          "model_name": "ButtonModel",
          "state": {
            "_view_name": "ButtonView",
            "style": "IPY_MODEL_3beb346979f34716a7ee2f9168f9dee6",
            "_dom_classes": [],
            "description": "Classify",
            "_model_name": "ButtonModel",
            "button_style": "",
            "_view_module": "@jupyter-widgets/controls",
            "_model_module_version": "1.5.0",
            "tooltip": "",
            "_view_count": null,
            "disabled": false,
            "_view_module_version": "1.5.0",
            "layout": "IPY_MODEL_d87564bb0cf54ea19392c869b139108b",
            "_model_module": "@jupyter-widgets/controls",
            "icon": ""
          }
        },
        "c1f5f448eacb407c9961a420091af65c": {
          "model_module": "@jupyter-widgets/output",
          "model_name": "OutputModel",
          "state": {
            "_view_name": "OutputView",
            "msg_id": "",
            "_dom_classes": [],
            "_model_name": "OutputModel",
            "outputs": [
              {
                "output_type": "display_data",
                "metadata": {
                  "tags": []
                },
                "image/png": "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\n",
                "text/plain": "<PIL.Image.Image image mode=RGB size=128x96 at 0x7F9602B3CBA8>"
              }
            ],
            "_view_module": "@jupyter-widgets/output",
            "_model_module_version": "1.0.0",
            "_view_count": null,
            "_view_module_version": "1.0.0",
            "layout": "IPY_MODEL_610c948bb63746b98d8da5b32a37f22b",
            "_model_module": "@jupyter-widgets/output"
          }
        },
        "fe48f0b51fb64187a4b6fa8cf89502b5": {
          "model_module": "@jupyter-widgets/controls",
          "model_name": "LabelModel",
          "state": {
            "_view_name": "LabelView",
            "style": "IPY_MODEL_be3680e2541d48dfa3f40c8b00cd8e4f",
            "_dom_classes": [],
            "description": "",
            "_model_name": "LabelModel",
            "placeholder": "​",
            "_view_module": "@jupyter-widgets/controls",
            "_model_module_version": "1.5.0",
            "value": "Prediction: Lorena; Probability: 0.9988",
            "_view_count": null,
            "_view_module_version": "1.5.0",
            "description_tooltip": null,
            "_model_module": "@jupyter-widgets/controls",
            "layout": "IPY_MODEL_5fe9a0ee99cc4da3accef4ab346a3e4b"
          }
        },
        "dcf5b5fd4d804e46bb1e5b075f90bb0b": {
          "model_module": "@jupyter-widgets/controls",
          "model_name": "DescriptionStyleModel",
          "state": {
            "_view_name": "StyleView",
            "_model_name": "DescriptionStyleModel",
            "description_width": "",
            "_view_module": "@jupyter-widgets/base",
            "_model_module_version": "1.5.0",
            "_view_count": null,
            "_view_module_version": "1.2.0",
            "_model_module": "@jupyter-widgets/controls"
          }
        },
        "90f401ad65d740208024ec9fd5a4d8bb": {
          "model_module": "@jupyter-widgets/base",
          "model_name": "LayoutModel",
          "state": {
            "_view_name": "LayoutView",
            "grid_template_rows": null,
            "right": null,
            "justify_content": null,
            "_view_module": "@jupyter-widgets/base",
            "overflow": null,
            "_model_module_version": "1.2.0",
            "_view_count": null,
            "flex_flow": null,
            "width": null,
            "min_width": null,
            "border": null,
            "align_items": null,
            "bottom": null,
            "_model_module": "@jupyter-widgets/base",
            "top": null,
            "grid_column": null,
            "overflow_y": null,
            "overflow_x": null,
            "grid_auto_flow": null,
            "grid_area": null,
            "grid_template_columns": null,
            "flex": null,
            "_model_name": "LayoutModel",
            "justify_items": null,
            "grid_row": null,
            "max_height": null,
            "align_content": null,
            "visibility": null,
            "align_self": null,
            "height": null,
            "min_height": null,
            "padding": null,
            "grid_auto_rows": null,
            "grid_gap": null,
            "max_width": null,
            "order": null,
            "_view_module_version": "1.2.0",
            "grid_template_areas": null,
            "object_position": null,
            "object_fit": null,
            "grid_auto_columns": null,
            "margin": null,
            "display": null,
            "left": null
          }
        },
        "e5841588c53443b8afe3f05817d571c5": {
          "model_module": "@jupyter-widgets/controls",
          "model_name": "ButtonStyleModel",
          "state": {
            "_view_name": "StyleView",
            "_model_name": "ButtonStyleModel",
            "_view_module": "@jupyter-widgets/base",
            "_model_module_version": "1.5.0",
            "_view_count": null,
            "button_color": null,
            "font_weight": "",
            "_view_module_version": "1.2.0",
            "_model_module": "@jupyter-widgets/controls"
          }
        },
        "e01f8692ac1e4597878c34f5d41dcf5f": {
          "model_module": "@jupyter-widgets/base",
          "model_name": "LayoutModel",
          "state": {
            "_view_name": "LayoutView",
            "grid_template_rows": null,
            "right": null,
            "justify_content": null,
            "_view_module": "@jupyter-widgets/base",
            "overflow": null,
            "_model_module_version": "1.2.0",
            "_view_count": null,
            "flex_flow": null,
            "width": null,
            "min_width": null,
            "border": null,
            "align_items": null,
            "bottom": null,
            "_model_module": "@jupyter-widgets/base",
            "top": null,
            "grid_column": null,
            "overflow_y": null,
            "overflow_x": null,
            "grid_auto_flow": null,
            "grid_area": null,
            "grid_template_columns": null,
            "flex": null,
            "_model_name": "LayoutModel",
            "justify_items": null,
            "grid_row": null,
            "max_height": null,
            "align_content": null,
            "visibility": null,
            "align_self": null,
            "height": null,
            "min_height": null,
            "padding": null,
            "grid_auto_rows": null,
            "grid_gap": null,
            "max_width": null,
            "order": null,
            "_view_module_version": "1.2.0",
            "grid_template_areas": null,
            "object_position": null,
            "object_fit": null,
            "grid_auto_columns": null,
            "margin": null,
            "display": null,
            "left": null
          }
        },
        "3beb346979f34716a7ee2f9168f9dee6": {
          "model_module": "@jupyter-widgets/controls",
          "model_name": "ButtonStyleModel",
          "state": {
            "_view_name": "StyleView",
            "_model_name": "ButtonStyleModel",
            "_view_module": "@jupyter-widgets/base",
            "_model_module_version": "1.5.0",
            "_view_count": null,
            "button_color": null,
            "font_weight": "",
            "_view_module_version": "1.2.0",
            "_model_module": "@jupyter-widgets/controls"
          }
        },
        "d87564bb0cf54ea19392c869b139108b": {
          "model_module": "@jupyter-widgets/base",
          "model_name": "LayoutModel",
          "state": {
            "_view_name": "LayoutView",
            "grid_template_rows": null,
            "right": null,
            "justify_content": null,
            "_view_module": "@jupyter-widgets/base",
            "overflow": null,
            "_model_module_version": "1.2.0",
            "_view_count": null,
            "flex_flow": null,
            "width": null,
            "min_width": null,
            "border": null,
            "align_items": null,
            "bottom": null,
            "_model_module": "@jupyter-widgets/base",
            "top": null,
            "grid_column": null,
            "overflow_y": null,
            "overflow_x": null,
            "grid_auto_flow": null,
            "grid_area": null,
            "grid_template_columns": null,
            "flex": null,
            "_model_name": "LayoutModel",
            "justify_items": null,
            "grid_row": null,
            "max_height": null,
            "align_content": null,
            "visibility": null,
            "align_self": null,
            "height": null,
            "min_height": null,
            "padding": null,
            "grid_auto_rows": null,
            "grid_gap": null,
            "max_width": null,
            "order": null,
            "_view_module_version": "1.2.0",
            "grid_template_areas": null,
            "object_position": null,
            "object_fit": null,
            "grid_auto_columns": null,
            "margin": null,
            "display": null,
            "left": null
          }
        },
        "be3680e2541d48dfa3f40c8b00cd8e4f": {
          "model_module": "@jupyter-widgets/controls",
          "model_name": "DescriptionStyleModel",
          "state": {
            "_view_name": "StyleView",
            "_model_name": "DescriptionStyleModel",
            "description_width": "",
            "_view_module": "@jupyter-widgets/base",
            "_model_module_version": "1.5.0",
            "_view_count": null,
            "_view_module_version": "1.2.0",
            "_model_module": "@jupyter-widgets/controls"
          }
        },
        "5fe9a0ee99cc4da3accef4ab346a3e4b": {
          "model_module": "@jupyter-widgets/base",
          "model_name": "LayoutModel",
          "state": {
            "_view_name": "LayoutView",
            "grid_template_rows": null,
            "right": null,
            "justify_content": null,
            "_view_module": "@jupyter-widgets/base",
            "overflow": null,
            "_model_module_version": "1.2.0",
            "_view_count": null,
            "flex_flow": null,
            "width": null,
            "min_width": null,
            "border": null,
            "align_items": null,
            "bottom": null,
            "_model_module": "@jupyter-widgets/base",
            "top": null,
            "grid_column": null,
            "overflow_y": null,
            "overflow_x": null,
            "grid_auto_flow": null,
            "grid_area": null,
            "grid_template_columns": null,
            "flex": null,
            "_model_name": "LayoutModel",
            "justify_items": null,
            "grid_row": null,
            "max_height": null,
            "align_content": null,
            "visibility": null,
            "align_self": null,
            "height": null,
            "min_height": null,
            "padding": null,
            "grid_auto_rows": null,
            "grid_gap": null,
            "max_width": null,
            "order": null,
            "_view_module_version": "1.2.0",
            "grid_template_areas": null,
            "object_position": null,
            "object_fit": null,
            "grid_auto_columns": null,
            "margin": null,
            "display": null,
            "left": null
          }
        },
        "610c948bb63746b98d8da5b32a37f22b": {
          "model_module": "@jupyter-widgets/base",
          "model_name": "LayoutModel",
          "state": {
            "_view_name": "LayoutView",
            "grid_template_rows": null,
            "right": null,
            "justify_content": null,
            "_view_module": "@jupyter-widgets/base",
            "overflow": null,
            "_model_module_version": "1.2.0",
            "_view_count": null,
            "flex_flow": null,
            "width": null,
            "min_width": null,
            "border": null,
            "align_items": null,
            "bottom": null,
            "_model_module": "@jupyter-widgets/base",
            "top": null,
            "grid_column": null,
            "overflow_y": null,
            "overflow_x": null,
            "grid_auto_flow": null,
            "grid_area": null,
            "grid_template_columns": null,
            "flex": null,
            "_model_name": "LayoutModel",
            "justify_items": null,
            "grid_row": null,
            "max_height": null,
            "align_content": null,
            "visibility": null,
            "align_self": null,
            "height": null,
            "min_height": null,
            "padding": null,
            "grid_auto_rows": null,
            "grid_gap": null,
            "max_width": null,
            "order": null,
            "_view_module_version": "1.2.0",
            "grid_template_areas": null,
            "object_position": null,
            "object_fit": null,
            "grid_auto_columns": null,
            "margin": null,
            "display": null,
            "left": null
          }
        }
      }
    }
  },
  "cells": [
    {
      "cell_type": "markdown",
      "metadata": {
        "id": "view-in-github",
        "colab_type": "text"
      },
      "source": [
        "<a href=\"https://colab.research.google.com/github/ferrveciana/FastAiNotebooks/blob/master/Lorena_Ferran_APP.ipynb\" target=\"_parent\"><img src=\"https://colab.research.google.com/assets/colab-badge.svg\" alt=\"Open In Colab\"/></a>"
      ]
    },
    {
      "cell_type": "markdown",
      "metadata": {
        "id": "-RMC1CO8hkqO",
        "colab_type": "text"
      },
      "source": [
        "# Fast.ai Lorena-Ferran\n",
        "\n",
        "\n",
        "\n",
        "En aquest exemple tinc una basse de dades que consta de dues carpetes de noms Ferran i Lorena on hi ha fotos de cadascú respactivament.\n",
        "\n",
        "L'objectiu és crear un sistema de reconeixament que digui qui dels 2 es troba en aquesta foto.\n"
      ]
    },
    {
      "cell_type": "code",
      "metadata": {
        "id": "1PE9Uo4QgfII",
        "colab_type": "code",
        "colab": {
          "base_uri": "https://localhost:8080/",
          "height": 182
        },
        "outputId": "f0798bbd-8922-4115-9814-7b1fd5b5389d"
      },
      "source": [
        "#hide\n",
        "!pip install -Uqq fastbook\n",
        "import fastbook\n",
        "from fastbook import *\n",
        "from fastai.vision.widgets import *"
      ],
      "execution_count": 1,
      "outputs": [
        {
          "output_type": "stream",
          "text": [
            "\u001b[?25l\r\u001b[K     |██████                          | 10kB 18.7MB/s eta 0:00:01\r\u001b[K     |████████████                    | 20kB 9.9MB/s eta 0:00:01\r\u001b[K     |██████████████████              | 30kB 2.6MB/s eta 0:00:01\r\u001b[K     |████████████████████████        | 40kB 3.3MB/s eta 0:00:01\r\u001b[K     |██████████████████████████████  | 51kB 3.5MB/s eta 0:00:01\r\u001b[K     |████████████████████████████████| 61kB 2.8MB/s \n",
            "\u001b[K     |████████████████████████████████| 51kB 5.0MB/s \n",
            "\u001b[K     |████████████████████████████████| 1.0MB 9.0MB/s \n",
            "\u001b[K     |████████████████████████████████| 358kB 27.8MB/s \n",
            "\u001b[K     |████████████████████████████████| 40kB 5.4MB/s \n",
            "\u001b[K     |████████████████████████████████| 92kB 9.2MB/s \n",
            "\u001b[K     |████████████████████████████████| 61kB 6.8MB/s \n",
            "\u001b[K     |████████████████████████████████| 51kB 6.3MB/s \n",
            "\u001b[K     |████████████████████████████████| 2.6MB 27.7MB/s \n",
            "\u001b[?25h"
          ],
          "name": "stdout"
        }
      ]
    },
    {
      "cell_type": "code",
      "metadata": {
        "id": "q3tDEfD-gg1n",
        "colab_type": "code",
        "colab": {}
      },
      "source": [
        "path = Path('/content/drive/My Drive/MyDatabase')"
      ],
      "execution_count": 7,
      "outputs": []
    },
    {
      "cell_type": "markdown",
      "metadata": {
        "id": "395xv1rPD9xm",
        "colab_type": "text"
      },
      "source": [
        "## Inference learning"
      ]
    },
    {
      "cell_type": "code",
      "metadata": {
        "id": "EhK0RxfXlbXs",
        "colab_type": "code",
        "colab": {}
      },
      "source": [
        "learn_inf = load_learner(path/'export.pkl',cpu=True)\n",
        "btn_upload = widgets.FileUpload()\n",
        "out_pl = widgets.Output()\n",
        "lbl_pred = widgets.Label()\n",
        "lbl_pred.value = 'Please chose an image'\n",
        "classify_but = widgets.Button(description = \"Classify\")"
      ],
      "execution_count": 11,
      "outputs": []
    },
    {
      "cell_type": "code",
      "metadata": {
        "id": "DyM-ws2SLjXo",
        "colab_type": "code",
        "colab": {}
      },
      "source": [
        "def on_click_classify(change):\n",
        "    img = PILImage.create(btn_upload.data[-1])\n",
        "    out_pl.clear_output()\n",
        "    with out_pl: display(img.to_thumb(128,128))\n",
        "    pred,pred_idx,probs = learn_inf.predict(img)\n",
        "    lbl_pred.value = f'Prediction: {pred}; Probability: {probs[pred_idx]:.04f}'"
      ],
      "execution_count": 12,
      "outputs": []
    },
    {
      "cell_type": "code",
      "metadata": {
        "id": "-lAMd7iVLjXq",
        "colab_type": "code",
        "colab": {}
      },
      "source": [
        "btn_upload.observe(on_click_classify, names=['data'])"
      ],
      "execution_count": 14,
      "outputs": []
    },
    {
      "cell_type": "code",
      "metadata": {
        "id": "KVX59OZtLjXs",
        "colab_type": "code",
        "colab": {
          "base_uri": "https://localhost:8080/",
          "height": 241,
          "referenced_widgets": [
            "52449273d27e499ab9a3d884e9e8209d",
            "99d38736728e48618d87fac2102d5645",
            "4195c7d65c7d449487ae97239e3266aa",
            "4978286802cf4dab90c3de7d55254242",
            "ecfeb83bb1b648baab6e5b217bf636e4",
            "c1f5f448eacb407c9961a420091af65c",
            "fe48f0b51fb64187a4b6fa8cf89502b5",
            "dcf5b5fd4d804e46bb1e5b075f90bb0b",
            "90f401ad65d740208024ec9fd5a4d8bb",
            "e5841588c53443b8afe3f05817d571c5",
            "e01f8692ac1e4597878c34f5d41dcf5f",
            "3beb346979f34716a7ee2f9168f9dee6",
            "d87564bb0cf54ea19392c869b139108b",
            "be3680e2541d48dfa3f40c8b00cd8e4f",
            "5fe9a0ee99cc4da3accef4ab346a3e4b",
            "610c948bb63746b98d8da5b32a37f22b"
          ]
        },
        "outputId": "2209c380-e48f-40ec-f70e-57dc4e68a7da"
      },
      "source": [
        "display(VBox([widgets.Label('Chose an image'), \n",
        "      btn_upload, classify_but, out_pl, lbl_pred]))"
      ],
      "execution_count": 15,
      "outputs": [
        {
          "output_type": "display_data",
          "data": {
            "application/vnd.jupyter.widget-view+json": {
              "model_id": "52449273d27e499ab9a3d884e9e8209d",
              "version_minor": 0,
              "version_major": 2
            },
            "text/plain": [
              "VBox(children=(Label(value='Chose an image'), FileUpload(value={}, description='Upload'), Button(description='…"
            ]
          },
          "metadata": {
            "tags": []
          }
        },
        {
          "output_type": "display_data",
          "data": {
            "text/html": [
              ""
            ],
            "text/plain": [
              "<IPython.core.display.HTML object>"
            ]
          },
          "metadata": {
            "tags": []
          }
        }
      ]
    }
  ]
}